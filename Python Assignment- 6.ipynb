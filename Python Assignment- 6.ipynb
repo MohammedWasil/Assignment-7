{
 "cells": [
  {
   "cell_type": "markdown",
   "id": "2ef3618b",
   "metadata": {},
   "source": [
    "# PW Skills Data Science Masters \n",
    "## Python Assignment- 6"
   ]
  },
  {
   "cell_type": "markdown",
   "id": "e3d36d02",
   "metadata": {},
   "source": [
    "##### Ques.1- Explain Class and Object with respect to Object  Oriented Programming. Give a suitable example.\n",
    "##### Ans:- Class:- An Object is an instance of a Class. A class is like a blueprint while an instance is a copy of the class with actual values.\n",
    "##### Object:- An object is called an instance of a class. For example, suppose Bike is a class then we can create objects like bike1 , bike2 , etc from the class. Here's the syntax to create an object. Here, bike1 is the object of the class.\n"
   ]
  },
  {
   "cell_type": "code",
   "execution_count": 1,
   "id": "07736921",
   "metadata": {},
   "outputs": [
    {
     "name": "stdout",
     "output_type": "stream",
     "text": [
      "Name: Mountain Bike, Gears: 11 \n"
     ]
    }
   ],
   "source": [
    "#Example Python Class and Objects\n",
    "# define a class\n",
    "class Bike:\n",
    "    name = \"\"\n",
    "    gear = 0\n",
    "\n",
    "# create object of class\n",
    "bike1 = Bike()\n",
    "\n",
    "# access attributes and assign new values\n",
    "bike1.gear = 11\n",
    "bike1.name = \"Mountain Bike\"\n",
    "\n",
    "print(f\"Name: {bike1.name}, Gears: {bike1.gear} \")"
   ]
  },
  {
   "cell_type": "code",
   "execution_count": null,
   "id": "db8592e0",
   "metadata": {},
   "outputs": [],
   "source": []
  },
  {
   "cell_type": "markdown",
   "id": "7f0000c7",
   "metadata": {},
   "source": [
    "##### Ques.2- Name the four pillers of OOPs.\n",
    "#####  Ans:- The four pillars for OOPs are:-  \n",
    "###### (i) Abstraction \n",
    "###### (ii) Encapsulation \n",
    "###### (ii) Inheritance \n",
    "###### (iv) Polymorphism"
   ]
  },
  {
   "cell_type": "code",
   "execution_count": null,
   "id": "4eb8f727",
   "metadata": {},
   "outputs": [],
   "source": []
  },
  {
   "cell_type": "markdown",
   "id": "a004d433",
   "metadata": {},
   "source": [
    "##### Ques.3- Explain why --init--function is used. Give a suitable example.\n",
    "##### Ans:- All classes have a function called --init--(), which is always executed when the class is being initiated. The --init--() function is called automatically every time the class is being used to create a new object.\n"
   ]
  },
  {
   "cell_type": "code",
   "execution_count": 2,
   "id": "0b3ac640",
   "metadata": {},
   "outputs": [
    {
     "name": "stdout",
     "output_type": "stream",
     "text": [
      "Ajhar Ali\n",
      "20\n"
     ]
    }
   ],
   "source": [
    "#Example of __init__ function\n",
    "class Person:\n",
    "    def __init__(self, name, age):\n",
    "        self.name = name\n",
    "        self.age = age\n",
    "\n",
    "p1 = Person(\"Ajhar Ali\", 20)\n",
    "\n",
    "print(p1.name)\n",
    "print(p1.age)"
   ]
  },
  {
   "cell_type": "code",
   "execution_count": null,
   "id": "511f8684",
   "metadata": {},
   "outputs": [],
   "source": []
  },
  {
   "cell_type": "markdown",
   "id": "b7a9f46b",
   "metadata": {},
   "source": [
    "##### Ques.4-  Why self is used in OOPs?\n",
    "##### Ans:- The self variable is used to represent the instance of the class which is often used in object-oriented programming. It works as a reference to the object. Python uses the self parameter to refer to instance attributes and methods of the class."
   ]
  },
  {
   "cell_type": "code",
   "execution_count": null,
   "id": "70fcf10c",
   "metadata": {},
   "outputs": [],
   "source": []
  },
  {
   "cell_type": "markdown",
   "id": "7815a134",
   "metadata": {},
   "source": [
    "##### Ques.5- What is the inheritance? Give an example for each type of inheritence.\n",
    "##### Ans:- Inheritance is one of four pillars of Object-Oriented Programming (OOPs). It is a feature that enables a class to acquire properties and characteristics of another class. Inheritance allows you to reuse your code since the derived class or the child class can reuse the members of the base class by inheriting them.\n",
    "##### Types of inheritance:- \n",
    "###### Single inheritance:- Single inheritance enables a derived class to inherit properties from a single parent class, thus enabling code reusability and the addition of new features to existing code."
   ]
  },
  {
   "cell_type": "code",
   "execution_count": 3,
   "id": "4071bc73",
   "metadata": {},
   "outputs": [
    {
     "name": "stdout",
     "output_type": "stream",
     "text": [
      "This function is in parent class.\n",
      "This function is in child class.\n"
     ]
    }
   ],
   "source": [
    "#Example\n",
    "class Parent:\n",
    "    def func1(self):\n",
    "        print(\"This function is in parent class.\")\n",
    "class Child(Parent):\n",
    "        def func2(self):\n",
    "            print(\"This function is in child class.\")\n",
    "object = Child()\n",
    "object.func1()\n",
    "object.func2()"
   ]
  },
  {
   "cell_type": "markdown",
   "id": "72b7c9e2",
   "metadata": {},
   "source": [
    "###### Multiple inheritance:- In multilevel inheritance, features of the base class and the derived class are further inherited into the new derived class. This is similar to a relationship representing a child and a grandfather. \n",
    "\n"
   ]
  },
  {
   "cell_type": "code",
   "execution_count": 4,
   "id": "bb14ba41",
   "metadata": {},
   "outputs": [
    {
     "name": "stdout",
     "output_type": "stream",
     "text": [
      "Father : RAM\n",
      "Mother : SITA\n"
     ]
    }
   ],
   "source": [
    "# Example of multiple inheritance\n",
    "class Mother:\n",
    "    mothername = \"\"\n",
    " \n",
    "    def mother(self):\n",
    "        print(self.mothername)\n",
    "class Father:\n",
    "    fathername = \"\"\n",
    " \n",
    "    def father(self):\n",
    "        print(self.fathername)\n",
    "class Son(Mother, Father):\n",
    "    def parents(self):\n",
    "        print(\"Father :\", self.fathername)\n",
    "        print(\"Mother :\", self.mothername)\n",
    "s1 = Son()\n",
    "s1.fathername = \"RAM\"\n",
    "s1.mothername = \"SITA\"\n",
    "s1.parents()"
   ]
  },
  {
   "cell_type": "markdown",
   "id": "c245d455",
   "metadata": {},
   "source": [
    "##### Hierarchical Inheritance:  When more than one derived class are created from a single base this type of inheritance is called hierarchical inheritance. In this program, we have a parent (base) class and two child (derived) classes."
   ]
  },
  {
   "cell_type": "code",
   "execution_count": 5,
   "id": "34c3a0db",
   "metadata": {},
   "outputs": [
    {
     "name": "stdout",
     "output_type": "stream",
     "text": [
      "This function is in parent class.\n",
      "This function is in child 1.\n",
      "This function is in parent class.\n",
      "This function is in child 2.\n"
     ]
    }
   ],
   "source": [
    "# Example of Hierarchical inheritance\n",
    "\n",
    "class Parent:\n",
    "    def func1(self):\n",
    "        print(\"This function is in parent class.\")\n",
    "class Child1(Parent):\n",
    "    def func2(self):\n",
    "        print(\"This function is in child 1.\")\n",
    "class Child2(Parent):\n",
    "    def func3(self):\n",
    "        print(\"This function is in child 2.\")\n",
    "object1 = Child1()\n",
    "object2 = Child2()\n",
    "object1.func1()\n",
    "object1.func2()\n",
    "object2.func1()\n",
    "object2.func3()"
   ]
  },
  {
   "cell_type": "markdown",
   "id": "edee6e3b",
   "metadata": {},
   "source": [
    "##### Hybrid Inheritance:  Inheritance consisting of multiple types of inheritance is called hybrid inheritance."
   ]
  },
  {
   "cell_type": "code",
   "execution_count": 6,
   "id": "b4a52285",
   "metadata": {},
   "outputs": [
    {
     "name": "stdout",
     "output_type": "stream",
     "text": [
      "This function is in school.\n",
      "This function is in student 1. \n"
     ]
    }
   ],
   "source": [
    "# Example of Hybrid inheritance\n",
    "\n",
    "class School:\n",
    "    def func1(self):\n",
    "        print(\"This function is in school.\")\n",
    " \n",
    " \n",
    "class Student1(School):\n",
    "    def func2(self):\n",
    "        print(\"This function is in student 1. \")\n",
    " \n",
    " \n",
    "class Student2(School):\n",
    "    def func3(self):\n",
    "        print(\"This function is in student 2.\")\n",
    " \n",
    " \n",
    "class Student3(Student1, School):\n",
    "    def func4(self):\n",
    "        print(\"This function is in student 3.\")\n",
    " \n",
    " \n",
    "# Driver's code\n",
    "object = Student3()\n",
    "object.func1()\n",
    "object.func2()\n"
   ]
  },
  {
   "cell_type": "code",
   "execution_count": null,
   "id": "565c80d8",
   "metadata": {},
   "outputs": [],
   "source": []
  }
 ],
 "metadata": {
  "kernelspec": {
   "display_name": "Python 3 (ipykernel)",
   "language": "python",
   "name": "python3"
  },
  "language_info": {
   "codemirror_mode": {
    "name": "ipython",
    "version": 3
   },
   "file_extension": ".py",
   "mimetype": "text/x-python",
   "name": "python",
   "nbconvert_exporter": "python",
   "pygments_lexer": "ipython3",
   "version": "3.9.13"
  }
 },
 "nbformat": 4,
 "nbformat_minor": 5
}
